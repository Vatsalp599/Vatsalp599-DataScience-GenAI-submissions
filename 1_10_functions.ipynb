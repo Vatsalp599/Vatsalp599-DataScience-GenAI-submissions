{
  "cells": [
    {
      "cell_type": "markdown",
      "metadata": {
        "id": "view-in-github",
        "colab_type": "text"
      },
      "source": [
        "<a href=\"https://colab.research.google.com/github/Vatsalp599/Vatsalp599-DataScience-GenAI-submissions/blob/main/1_10_functions.ipynb\" target=\"_parent\"><img src=\"https://colab.research.google.com/assets/colab-badge.svg\" alt=\"Open In Colab\"/></a>"
      ]
    },
    {
      "cell_type": "markdown",
      "id": "c87eb2c2",
      "metadata": {
        "id": "c87eb2c2"
      },
      "source": [
        "![](https://drive.google.com/uc?export=view&id=1xqQczl0FG-qtNA2_WQYuWePW9oU8irqJ)"
      ]
    },
    {
      "cell_type": "markdown",
      "id": "66315bd8",
      "metadata": {
        "id": "66315bd8"
      },
      "source": [
        "# 1.10 Functions"
      ]
    },
    {
      "cell_type": "markdown",
      "id": "0641e1ea",
      "metadata": {
        "id": "0641e1ea"
      },
      "source": [
        "A function is a block of code that performs a certain task. We can then reuse the function as many times as we need whenever we need to perform that task. We create a function by first defining it using the ```def``` keyword. To define a function, we must name the function and define any parameters for that function.\n",
        "\n",
        "Parameters are the information the function needs to perform its task, the actual information we pass into the function is called an argument. We have extensively been using the __print()__ function in many of the notebooks. The __print()__ function has an *object* parameter, whatever we have been putting inside the brackets of the __print()__ function, whether it be strings or integers are arguments."
      ]
    },
    {
      "cell_type": "code",
      "execution_count": 1,
      "id": "eb75b811",
      "metadata": {
        "id": "eb75b811"
      },
      "outputs": [],
      "source": [
        "def add_one(number):\n",
        "    print(number + 1)"
      ]
    },
    {
      "cell_type": "markdown",
      "id": "ae7a141c",
      "metadata": {
        "id": "ae7a141c"
      },
      "source": [
        "Above we have created a function called add_one with a single parameter called number, and all this simple one line function does it add one to that number and print it.\n",
        "\n",
        "To run a function we have to call it, all we do is type the function name with the open and closed brackets, and pass in the required arguments if there are any."
      ]
    },
    {
      "cell_type": "code",
      "execution_count": 2,
      "id": "63b69652",
      "metadata": {
        "id": "63b69652",
        "colab": {
          "base_uri": "https://localhost:8080/"
        },
        "outputId": "6c5fead9-750f-434d-9b72-07004e526387"
      },
      "outputs": [
        {
          "output_type": "stream",
          "name": "stdout",
          "text": [
            "6\n"
          ]
        }
      ],
      "source": [
        "add_one(5)"
      ]
    },
    {
      "cell_type": "markdown",
      "id": "62fe6e2b",
      "metadata": {
        "id": "62fe6e2b"
      },
      "source": [
        "We will go over it one more time, just to make sure we understand, the name of the function is add_one, it takes a single parameter called number. When we call our function by typing in the function name, we have to satisfy the parameter, so we pass in the integer 5 as an argument."
      ]
    },
    {
      "cell_type": "markdown",
      "id": "4b3db430",
      "metadata": {
        "id": "4b3db430"
      },
      "source": [
        "## Variable Scope\n",
        "\n",
        "An important concept you need to understand when dealing with variables is scope. There is the global scope and the local scope. Up till now all the variables you have created, even the dummy variables in your for loops have been in the global scope, meaning it can be accessed anywhere in your program, we call this type of variable a global variable.\n",
        "\n",
        "Variables inside your functions are by default in the local scope, meaning that they can only be accessed from within the function, if we try to access a variable from outside the function we will get a NameError."
      ]
    },
    {
      "cell_type": "code",
      "execution_count": 3,
      "id": "86d43bd5",
      "metadata": {
        "id": "86d43bd5",
        "colab": {
          "base_uri": "https://localhost:8080/",
          "height": 198
        },
        "outputId": "a09f21c9-eb4b-45c1-9592-eea3d254af9b"
      },
      "outputs": [
        {
          "output_type": "stream",
          "name": "stdout",
          "text": [
            "Your new name is Bob\n"
          ]
        },
        {
          "output_type": "error",
          "ename": "NameError",
          "evalue": "name 'name' is not defined",
          "traceback": [
            "\u001b[0;31m---------------------------------------------------------------------------\u001b[0m",
            "\u001b[0;31mNameError\u001b[0m                                 Traceback (most recent call last)",
            "\u001b[0;32m/tmp/ipython-input-1420040089.py\u001b[0m in \u001b[0;36m<cell line: 0>\u001b[0;34m()\u001b[0m\n\u001b[1;32m      5\u001b[0m \u001b[0mname_generator\u001b[0m\u001b[0;34m(\u001b[0m\u001b[0;34m)\u001b[0m\u001b[0;34m\u001b[0m\u001b[0;34m\u001b[0m\u001b[0m\n\u001b[1;32m      6\u001b[0m \u001b[0;34m\u001b[0m\u001b[0m\n\u001b[0;32m----> 7\u001b[0;31m \u001b[0mprint\u001b[0m\u001b[0;34m(\u001b[0m\u001b[0mname\u001b[0m\u001b[0;34m)\u001b[0m\u001b[0;34m\u001b[0m\u001b[0;34m\u001b[0m\u001b[0m\n\u001b[0m",
            "\u001b[0;31mNameError\u001b[0m: name 'name' is not defined"
          ]
        }
      ],
      "source": [
        "def name_generator():\n",
        "    name = \"Bob\"\n",
        "    print(f\"Your new name is {name}\")\n",
        "\n",
        "name_generator()\n",
        "\n",
        "print(name)"
      ]
    },
    {
      "cell_type": "markdown",
      "id": "8b11bff6",
      "metadata": {
        "id": "8b11bff6"
      },
      "source": [
        "## Returning Values\n",
        "\n",
        "The best way to access a variable that is inside a function is to return the value of that variable to the function call. The value can then be assigned to a variable inside the main program."
      ]
    },
    {
      "cell_type": "code",
      "execution_count": null,
      "id": "e5b0b926",
      "metadata": {
        "id": "e5b0b926"
      },
      "outputs": [],
      "source": [
        "def improved_name_generator():\n",
        "    name = \"Bill\"\n",
        "    return name\n",
        "\n",
        "name = improved_name_generator()\n",
        "print(name)"
      ]
    },
    {
      "cell_type": "code",
      "execution_count": null,
      "id": "4a1cf0cc",
      "metadata": {
        "id": "4a1cf0cc"
      },
      "outputs": [],
      "source": [
        "def improved_name_generator():\n",
        "    name = \"Billy\"\n",
        "    last_name = \"Russo\"\n",
        "\n",
        "name = improved_name_generator()\n",
        "print(name)"
      ]
    },
    {
      "cell_type": "markdown",
      "id": "0b76d8e6",
      "metadata": {
        "id": "0b76d8e6"
      },
      "source": [
        "There are a couple things worth pointing out regarding the above code:\n",
        "\n",
        "- We have used the same variable name inside and outside our function, this is perfectly fine because they are in a different scope, however using the same variable name in the same scope will reassign the variable to the new value.\n",
        "- Secondly in the last example we omit the return statement and when we assign the function output to the variable name we get a NoneType."
      ]
    },
    {
      "cell_type": "markdown",
      "id": "636dff66",
      "metadata": {
        "id": "636dff66"
      },
      "source": [
        "## Modules"
      ]
    },
    {
      "cell_type": "markdown",
      "id": "8dc9650c",
      "metadata": {
        "id": "8dc9650c"
      },
      "source": [
        "A module is a collection of functions stored in a seperate Python file. Having modules allow us to call these functions so we can use them at anytime, without having to enter the function code in that file."
      ]
    },
    {
      "cell_type": "markdown",
      "id": "979573e6",
      "metadata": {
        "id": "979573e6"
      },
      "source": [
        "### Importing Modules\n",
        "\n",
        "To import a module, use the ```import``` keyword. By importing a module you will have access to all its functions. Once you have imported your module you can call the modules functions. You will need to specify you are calling a function from that module by using the following syntax ```module_name.function_name()```."
      ]
    },
    {
      "cell_type": "code",
      "execution_count": null,
      "id": "c0636cfb",
      "metadata": {
        "id": "c0636cfb"
      },
      "outputs": [],
      "source": [
        "import random\n",
        "\n",
        "random.randint(1, 10)"
      ]
    },
    {
      "cell_type": "markdown",
      "id": "ab59b6e2",
      "metadata": {
        "id": "ab59b6e2"
      },
      "source": [
        "#### Module Alias\n",
        "\n",
        "To save time and prevent you from having to write out the module name repeatedly you can use a module alias to reduce the length of your function call. Use the ```as``` keyword to give a module an alias."
      ]
    },
    {
      "cell_type": "code",
      "execution_count": null,
      "id": "f5b6ce54",
      "metadata": {
        "id": "f5b6ce54"
      },
      "outputs": [],
      "source": [
        "import random as rd\n",
        "\n",
        "rd.choice([\"Yes\", \"No\"])"
      ]
    },
    {
      "cell_type": "markdown",
      "id": "c895e773",
      "metadata": {
        "id": "c895e773"
      },
      "source": [
        "### Importing Specific Functions\n",
        "\n",
        "Modules can vary in size and in certain cases when you only need a small number of functions, you can specify the individual functions you wish to import using the ```from``` keyword. You can then either import a single function or multiple functions seperated by comma.\n",
        "\n",
        "When you import functions from a module this way, you no longer need to include the module name in your function call and you would call it the same way you would a function you wrote in your code."
      ]
    },
    {
      "cell_type": "code",
      "execution_count": null,
      "id": "6a42f4f4",
      "metadata": {
        "id": "6a42f4f4"
      },
      "outputs": [],
      "source": [
        "from random import randint, choice\n",
        "\n",
        "print(randint(1,50))\n",
        "print(choice([\"Strawberry\", \"Banana\", \"Chocolate\", \"Vanilla\"]))"
      ]
    }
  ],
  "metadata": {
    "kernelspec": {
      "display_name": "Python 3 (ipykernel)",
      "language": "python",
      "name": "python3"
    },
    "language_info": {
      "codemirror_mode": {
        "name": "ipython",
        "version": 3
      },
      "file_extension": ".py",
      "mimetype": "text/x-python",
      "name": "python",
      "nbconvert_exporter": "python",
      "pygments_lexer": "ipython3",
      "version": "3.8.8"
    },
    "colab": {
      "provenance": [],
      "include_colab_link": true
    }
  },
  "nbformat": 4,
  "nbformat_minor": 5
}