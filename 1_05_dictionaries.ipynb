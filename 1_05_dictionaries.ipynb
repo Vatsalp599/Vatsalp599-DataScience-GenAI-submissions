{
  "cells": [
    {
      "cell_type": "markdown",
      "metadata": {
        "id": "view-in-github",
        "colab_type": "text"
      },
      "source": [
        "<a href=\"https://colab.research.google.com/github/Vatsalp599/Vatsalp599-DataScience-GenAI-submissions/blob/main/1_05_dictionaries.ipynb\" target=\"_parent\"><img src=\"https://colab.research.google.com/assets/colab-badge.svg\" alt=\"Open In Colab\"/></a>"
      ]
    },
    {
      "cell_type": "markdown",
      "id": "d6a2f666",
      "metadata": {
        "id": "d6a2f666"
      },
      "source": [
        "![](https://drive.google.com/uc?export=view&id=1xqQczl0FG-qtNA2_WQYuWePW9oU8irqJ)"
      ]
    },
    {
      "cell_type": "markdown",
      "id": "d871fb96",
      "metadata": {
        "id": "d871fb96"
      },
      "source": [
        "# 1.05 Dictionaries\n",
        "\n",
        "Dictionaries share some characteristics of lists, except every item is in fact a pair: a key (effectively a name for a stored item) and a value (the item being stored). In this way they are similar to the variables we have been creating throughout this chapter. We can look up a value in a dictionary by its name (and vice versa – although this is not really the point)\n",
        "\n",
        "Unlike lists, the order of items in a dictionary is irrelevant, and essentially arbitrary. We do not want to use indexes in this case, as we are finding our values by their key not by their position. Some examples of where we may want to use dictionaries:\n",
        "\n",
        "- User passwords: we could use a username (key) to look up a password (value) (obviously don’t do this as it is not a secure way to manage logins)\n",
        "- Student module marks: we could use a student’s ID (key) to find their marks (value).\n",
        "- Email address lookup: we enter a person’s name (key) to get their email address (value).\n",
        "\n",
        "## Creating a Python Dictionary\n",
        "\n",
        "Where a list in Python is created using square brackets, a dictionary is built with curly brackets – { }. As above, within these brackets we need to pass two objects, the key and the value, for each item we add to the dictionary. Each item is separated by a comma, as before, and each key/value combination by a colon."
      ]
    },
    {
      "cell_type": "code",
      "execution_count": 1,
      "id": "50ba4fed",
      "metadata": {
        "id": "50ba4fed",
        "colab": {
          "base_uri": "https://localhost:8080/"
        },
        "outputId": "cc0e1d90-6924-451e-f246-7b2cd2e40e5d"
      },
      "outputs": [
        {
          "output_type": "execute_result",
          "data": {
            "text/plain": [
              "{'Name': 'Data Science & Generative AI',\n",
              " 'Level': 'Undergraduate',\n",
              " 'Availability': ['WBS', 'Non-WBS'],\n",
              " 'Credits': 15,\n",
              " 'Year': '2025/26'}"
            ]
          },
          "metadata": {},
          "execution_count": 1
        }
      ],
      "source": [
        "dsga_module = {\n",
        "    \"Name\": \"Data Science & Generative AI\",\n",
        "    \"Level\": \"Undergraduate\",\n",
        "    \"Availability\": [\"WBS\", \"Non-WBS\"],\n",
        "    \"Credits\": 15,\n",
        "    \"Year\": \"2025/26\"\n",
        "}\n",
        "\n",
        "dsga_module"
      ]
    },
    {
      "cell_type": "markdown",
      "id": "49336f81",
      "metadata": {
        "id": "49336f81"
      },
      "source": [
        "Above we have created a dictionary for this module. The dictionary has five objects. For each object we have a __key__ (e.g. \"Credits\") and a __value__ (e.g. 15).\n",
        "\n",
        "### Retrieving Values from a Dictionary\n",
        "\n",
        "We can retrieve values from the dictionary by passing the key. This is done by using the syntax dictionary\\[key\\]."
      ]
    },
    {
      "cell_type": "code",
      "execution_count": 2,
      "id": "4580f173",
      "metadata": {
        "id": "4580f173",
        "colab": {
          "base_uri": "https://localhost:8080/"
        },
        "outputId": "52a71398-5643-45a4-e8f7-f7b559318f5c"
      },
      "outputs": [
        {
          "output_type": "execute_result",
          "data": {
            "text/plain": [
              "['WBS', 'Non-WBS']"
            ]
          },
          "metadata": {},
          "execution_count": 2
        }
      ],
      "source": [
        "dsga_module[\"Availability\"]"
      ]
    },
    {
      "cell_type": "markdown",
      "id": "c15cd27e",
      "metadata": {
        "id": "c15cd27e"
      },
      "source": [
        "As can be seen, the dictionary has looked up the list value \\['Champion', 'Spider'\\] based on the key given in the square brackets (“Type”).\n",
        "\n",
        "### Adding New Items to a Dictionary\n",
        "\n",
        "We can add new items to a dictionary in a very similar way, by again using the square brackets containing the new key, but this time following this with an equals symbol followed by the new value."
      ]
    },
    {
      "cell_type": "code",
      "execution_count": 3,
      "id": "415cea70",
      "metadata": {
        "id": "415cea70",
        "colab": {
          "base_uri": "https://localhost:8080/"
        },
        "outputId": "6f267b74-c8c6-4c80-83fc-67f4fc5df45f"
      },
      "outputs": [
        {
          "output_type": "execute_result",
          "data": {
            "text/plain": [
              "{'Name': 'Data Science & Generative AI',\n",
              " 'Level': 'Undergraduate',\n",
              " 'Availability': ['WBS', 'Non-WBS'],\n",
              " 'Credits': 15,\n",
              " 'Year': '2025/26',\n",
              " 'Evaluation': '4.51'}"
            ]
          },
          "metadata": {},
          "execution_count": 3
        }
      ],
      "source": [
        "dsga_module[\"Evaluation\"] = \"4.51\"\n",
        "dsga_module"
      ]
    },
    {
      "cell_type": "markdown",
      "id": "87cf1d09",
      "metadata": {
        "id": "87cf1d09"
      },
      "source": [
        "### Updating a Dictionary Item\n",
        "\n",
        "Another key difference between a list and a dictionary is that we can not have duplicated items (keys) in the latter. If we ran similar code as above for an existing key (e.g. Name) but with a different value, this would not add an additional \"Name\" key , it would just update the value stored."
      ]
    },
    {
      "cell_type": "code",
      "execution_count": 4,
      "id": "ab0ab391",
      "metadata": {
        "id": "ab0ab391",
        "colab": {
          "base_uri": "https://localhost:8080/"
        },
        "outputId": "507844b6-fbe1-475b-e2d0-59d50b5f8d4c"
      },
      "outputs": [
        {
          "output_type": "execute_result",
          "data": {
            "text/plain": [
              "{'Name': 'Data Science and Generative AI',\n",
              " 'Level': 'Undergraduate',\n",
              " 'Availability': ['WBS', 'Non-WBS'],\n",
              " 'Credits': 15,\n",
              " 'Year': '2025/26',\n",
              " 'Evaluation': '4.51'}"
            ]
          },
          "metadata": {},
          "execution_count": 4
        }
      ],
      "source": [
        "dsga_module[\"Name\"] = \"Data Science and Generative AI\"\n",
        "dsga_module"
      ]
    },
    {
      "cell_type": "markdown",
      "id": "48c40747",
      "metadata": {
        "id": "48c40747"
      },
      "source": [
        "As expected, the value associated with “Name” changes, rather than an additional value being added.\n",
        "\n",
        "There are multiple data types that can be used inside a dictionary, as you can see our dictionary contains string, integer and a list, but its possible to even add a dictionary inside of a dictionary. This is called a nested dictionary and it opens up even more use-cases.\n",
        "\n",
        "## Nested Dictionaries\n",
        "\n",
        "In this card game your cards can change into different cards can transform into different cards when certain conditions are met."
      ]
    },
    {
      "cell_type": "code",
      "execution_count": 5,
      "id": "c936d476",
      "metadata": {
        "id": "c936d476",
        "colab": {
          "base_uri": "https://localhost:8080/"
        },
        "outputId": "c34f3ddb-b337-46cf-c912-d9ba57cb3dfa"
      },
      "outputs": [
        {
          "output_type": "execute_result",
          "data": {
            "text/plain": [
              "{'dsga_module': {'Name': 'Data Science & Generative AI',\n",
              "  'Level': 'Undergraduate',\n",
              "  'Availability': ['WBS', 'Non-WBS'],\n",
              "  'Credits': 15,\n",
              "  'Year': '2025/26'},\n",
              " 'an_other': {'Name': 'Less Good Module',\n",
              "  'Level': 'postgraduate',\n",
              "  'Availability': ['WBS'],\n",
              "  'Credits': 15,\n",
              "  'Year': '2025/26'}}"
            ]
          },
          "metadata": {},
          "execution_count": 5
        }
      ],
      "source": [
        "modules = {\n",
        "    \"dsga_module\": {\n",
        "        \"Name\": \"Data Science & Generative AI\",\n",
        "        \"Level\": \"Undergraduate\",\n",
        "        \"Availability\": [\"WBS\", \"Non-WBS\"],\n",
        "        \"Credits\": 15,\n",
        "      \"Year\": \"2025/26\"\n",
        "      },\n",
        "    \"an_other\": {\n",
        "        \"Name\": \"Less Good Module\",\n",
        "        \"Level\": \"postgraduate\",\n",
        "        \"Availability\": [\"WBS\"],\n",
        "        \"Credits\": 15,\n",
        "      \"Year\": \"2025/26\"\n",
        "      }\n",
        "}\n",
        "\n",
        "modules"
      ]
    },
    {
      "cell_type": "markdown",
      "id": "c64c192a",
      "metadata": {
        "id": "c64c192a"
      },
      "source": [
        "### Calling Items in a Nested Dictionary\n",
        "\n",
        "We can call specific values from our nested dictionary using two sets of square brackets as we did when indexing nested lists in the previous notebook."
      ]
    },
    {
      "cell_type": "code",
      "execution_count": 6,
      "id": "47af1719",
      "metadata": {
        "id": "47af1719",
        "colab": {
          "base_uri": "https://localhost:8080/"
        },
        "outputId": "0f136e21-f2a3-450f-899c-d664239ee499"
      },
      "outputs": [
        {
          "output_type": "execute_result",
          "data": {
            "text/plain": [
              "15"
            ]
          },
          "metadata": {},
          "execution_count": 6
        }
      ],
      "source": [
        "modules[\"dsga_module\"][\"Credits\"]"
      ]
    },
    {
      "cell_type": "code",
      "execution_count": 7,
      "id": "733d5b77",
      "metadata": {
        "id": "733d5b77",
        "colab": {
          "base_uri": "https://localhost:8080/",
          "height": 35
        },
        "outputId": "67cc0727-cdd6-44bc-d308-cd599f7b9c41"
      },
      "outputs": [
        {
          "output_type": "execute_result",
          "data": {
            "text/plain": [
              "'Non-WBS'"
            ],
            "application/vnd.google.colaboratory.intrinsic+json": {
              "type": "string"
            }
          },
          "metadata": {},
          "execution_count": 7
        }
      ],
      "source": [
        "modules[\"dsga_module\"][\"Availability\"][1]"
      ]
    },
    {
      "cell_type": "markdown",
      "id": "5f4c93ed",
      "metadata": {
        "id": "5f4c93ed"
      },
      "source": [
        "## Deleting an Item from a Dictionary\n",
        "\n",
        "Sometimes we would want to remove an item from a dictionary. In dictionaries we do this using the del function (short for delete)."
      ]
    },
    {
      "cell_type": "code",
      "execution_count": 8,
      "id": "f9e855a5",
      "metadata": {
        "id": "f9e855a5",
        "colab": {
          "base_uri": "https://localhost:8080/"
        },
        "outputId": "f9822b62-3eec-4bc1-a5c1-62c0186904bb"
      },
      "outputs": [
        {
          "output_type": "execute_result",
          "data": {
            "text/plain": [
              "{'dsga_module': {'Name': 'Data Science & Generative AI',\n",
              "  'Level': 'Undergraduate',\n",
              "  'Availability': ['WBS', 'Non-WBS'],\n",
              "  'Credits': 15},\n",
              " 'an_other': {'Name': 'Less Good Module',\n",
              "  'Level': 'postgraduate',\n",
              "  'Availability': ['WBS'],\n",
              "  'Credits': 15,\n",
              "  'Year': '2025/26'}}"
            ]
          },
          "metadata": {},
          "execution_count": 8
        }
      ],
      "source": [
        "del modules[\"dsga_module\"][\"Year\"]\n",
        "modules"
      ]
    },
    {
      "cell_type": "code",
      "execution_count": 9,
      "id": "69f84f9f",
      "metadata": {
        "id": "69f84f9f",
        "colab": {
          "base_uri": "https://localhost:8080/"
        },
        "outputId": "d2f992f9-30c8-46c3-d6c1-ed7742a4c5fd"
      },
      "outputs": [
        {
          "output_type": "execute_result",
          "data": {
            "text/plain": [
              "{'dsga_module': {'Name': 'Data Science & Generative AI',\n",
              "  'Level': 'Undergraduate',\n",
              "  'Availability': ['WBS', 'Non-WBS'],\n",
              "  'Credits': 15}}"
            ]
          },
          "metadata": {},
          "execution_count": 9
        }
      ],
      "source": [
        "del modules[\"an_other\"]\n",
        "modules"
      ]
    },
    {
      "cell_type": "markdown",
      "id": "577564cc",
      "metadata": {
        "id": "577564cc"
      },
      "source": [
        "Using the __del( )__ function we can delete a single key/value pair from our dictionary or even the entire dictionary itself."
      ]
    }
  ],
  "metadata": {
    "kernelspec": {
      "display_name": "Python 3 (ipykernel)",
      "language": "python",
      "name": "python3"
    },
    "language_info": {
      "codemirror_mode": {
        "name": "ipython",
        "version": 3
      },
      "file_extension": ".py",
      "mimetype": "text/x-python",
      "name": "python",
      "nbconvert_exporter": "python",
      "pygments_lexer": "ipython3",
      "version": "3.8.8"
    },
    "colab": {
      "provenance": [],
      "include_colab_link": true
    }
  },
  "nbformat": 4,
  "nbformat_minor": 5
}